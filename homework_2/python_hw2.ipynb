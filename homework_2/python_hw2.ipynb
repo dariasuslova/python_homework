{
 "cells": [
  {
   "cell_type": "code",
   "execution_count": 14,
   "metadata": {},
   "outputs": [
    {
     "name": "stdout",
     "output_type": "stream",
     "text": [
      "[nltk_data] Downloading package punkt to\n",
      "[nltk_data]     C:\\Users\\Qwert\\AppData\\Roaming\\nltk_data...\n",
      "[nltk_data]   Unzipping tokenizers\\punkt.zip.\n"
     ]
    }
   ],
   "source": [
    "from pattern.web import Wikipedia, plaintext\n",
    "import re\n",
    "import nltk\n",
    "nltk.download('punkt')\n",
    "from nltk import word_tokenize\n",
    "from nltk.collocations import *\n",
    "from collections import Counter\n"
   ]
  },
  {
   "cell_type": "code",
   "execution_count": 22,
   "metadata": {},
   "outputs": [],
   "source": [
    "class WikiParser:\n",
    "    def __init__(self):\n",
    "        pass\n",
    "    def get_articles(self, start):\n",
    "        list_of_strings = []\n",
    "        article = Wikipedia().article(start)\n",
    "        l = article.links\n",
    "        for i in l:\n",
    "            a = Wikipedia(language='en').article(i)\n",
    "            if a is not None:\n",
    "                cleaned = a.plaintext()\n",
    "                clean = re.sub(r'[\\.,!?;:\\(\\)\"\\[\\]<>\\*\\^\\-]*', '', cleaned)\n",
    "                new = clean.replace('  ', ' ')\n",
    "                new = new.lower()\n",
    "                list_of_strings.append(new)\n",
    "            \n",
    "        return list_of_strings"
   ]
  },
  {
   "cell_type": "code",
   "execution_count": 78,
   "metadata": {},
   "outputs": [],
   "source": [
    "class TextStatistics:\n",
    "    def __init___(self, articles):\n",
    "        pass\n",
    "    def get_top_3grams(self, n):\n",
    "        for i in n:\n",
    "            i1 = re.sub('[1234567890\\.,!?;:\\(\\)\"\\[\\]<>\\*\\^\\-]*', '', i)\n",
    "            tokens = word_tokenize(i1)\n",
    "            trigram_measures = nltk.collocations.TrigramAssocMeasures()\n",
    "            finder = TrigramCollocationFinder.from_words(tokens)\n",
    "            freqs = finder.ngram_fd\n",
    "            for list_of_3grams_in_descending_order_by_freq, list_of_their_corresponding_freq in list(freqs.items())[:20]:\n",
    "                print (list_of_3grams_in_descending_order_by_freq, list_of_their_corresponding_freq)\n",
    "            #return (list_of_3grams_in_descending_order_by_freq, list_of_their_corresponding_freq)\n",
    "    def get_top_words(self, n):\n",
    "        for i in n:\n",
    "            i1 = re.sub('[1234567890\\.,!?;:\\(\\)\"\\[\\]<>\\*\\^\\-]*', '', i)\n",
    "            tokens = word_tokenize(i1)\n",
    "            cnt = Counter(tokens).most_common(20)\n",
    "        #return (list_of_words_in_descending_order_by_freq, list_of_their_corresponding_freq)\n",
    "        return (cnt)"
   ]
  },
  {
   "cell_type": "code",
   "execution_count": null,
   "metadata": {},
   "outputs": [],
   "source": []
  }
 ],
 "metadata": {
  "kernelspec": {
   "display_name": "Python 2",
   "language": "python",
   "name": "python2"
  },
  "language_info": {
   "codemirror_mode": {
    "name": "ipython",
    "version": 2
   },
   "file_extension": ".py",
   "mimetype": "text/x-python",
   "name": "python",
   "nbconvert_exporter": "python",
   "pygments_lexer": "ipython2",
   "version": "2.7.13"
  }
 },
 "nbformat": 4,
 "nbformat_minor": 2
}
